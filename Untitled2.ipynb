{
  "nbformat": 4,
  "nbformat_minor": 0,
  "metadata": {
    "colab": {
      "provenance": [],
      "authorship_tag": "ABX9TyMSfnJIjwPjWk3S3Yb9IXtu",
      "include_colab_link": true
    },
    "kernelspec": {
      "name": "python3",
      "display_name": "Python 3"
    },
    "language_info": {
      "name": "python"
    }
  },
  "cells": [
    {
      "cell_type": "markdown",
      "metadata": {
        "id": "view-in-github",
        "colab_type": "text"
      },
      "source": [
        "<a href=\"https://colab.research.google.com/github/Desh86/Prediction-of-Product-Sales/blob/main/Untitled2.ipynb\" target=\"_parent\"><img src=\"https://colab.research.google.com/assets/colab-badge.svg\" alt=\"Open In Colab\"/></a>"
      ]
    },
    {
      "cell_type": "code",
      "execution_count": null,
      "metadata": {
        "id": "-4C-aH5t2DlX"
      },
      "outputs": [],
      "source": []
    },
    {
      "cell_type": "markdown",
      "source": [
        "# Prediction-of-Product-Sales\n",
        "- Author: Deshan Pillay\n",
        "## Project Overview\n",
        "## Load and Inspect Data\n",
        "## Clean Data\n",
        "## Exploratory Data Analysis\n",
        "## Explanatory Data Analysis"
      ],
      "metadata": {
        "id": "DErw781a2D9M"
      }
    }
  ]
}